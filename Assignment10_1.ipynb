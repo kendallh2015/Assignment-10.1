{
  "nbformat": 4,
  "nbformat_minor": 0,
  "metadata": {
    "colab": {
      "name": "Assignment10.1.ipynb",
      "provenance": [],
      "include_colab_link": true
    },
    "kernelspec": {
      "name": "python3",
      "display_name": "Python 3"
    }
  },
  "cells": [
    {
      "cell_type": "markdown",
      "metadata": {
        "id": "view-in-github",
        "colab_type": "text"
      },
      "source": [
        "<a href=\"https://colab.research.google.com/github/kendallh2015/Assignment-10.1/blob/master/Assignment10_1.ipynb\" target=\"_parent\"><img src=\"https://colab.research.google.com/assets/colab-badge.svg\" alt=\"Open In Colab\"/></a>"
      ]
    },
    {
      "cell_type": "code",
      "metadata": {
        "id": "HS1vgRPzI_cK",
        "colab_type": "code",
        "colab": {}
      },
      "source": [
        "import os \n",
        "\n",
        "basedir = \"C:\\\\dev\\\\logger\\\\\"\n",
        "\n",
        "print(\"Welcome!!!\")\n",
        "\n",
        "project = input('What directory would you like to save the file to?')\n",
        "filename = project + \".txt\"\n",
        "\n",
        "if(os.path.isdir(basedir)):\n",
        "  print(\"Directory exists\")\n",
        "else:\n",
        "  print(\"Directory does not exist. We will make one.\")\n",
        "  os.mkdir(basedir)\n",
        "\n",
        "name = input('What is your name? ')\n",
        "address = input('What is the address you would like to use? ')\n",
        "phonenumber = input('What is the phone number you would like to use? ')\n",
        "\n",
        "logrecord = name + \",\" + address + \",\" + phonenumber\n",
        "completePath = basedir + filename \n",
        "\n",
        "with open(completePath, 'a') as fileHandle:\n",
        "  fileHandle.write(logrecord + \"\\n\")\n",
        "\n",
        "print(\"Your directory is written. You have filed the following project: \" + project)\n",
        "\n",
        "with open(completePath, 'r') as readHandle:\n",
        "  for line in readHandle:\n",
        "    print(line.strip())"
      ],
      "execution_count": 0,
      "outputs": []
    }
  ]
}