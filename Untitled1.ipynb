{
  "nbformat": 4,
  "nbformat_minor": 0,
  "metadata": {
    "colab": {
      "name": "Untitled1.ipynb",
      "provenance": [],
      "include_colab_link": true
    },
    "kernelspec": {
      "name": "python3",
      "display_name": "Python 3"
    }
  },
  "cells": [
    {
      "cell_type": "markdown",
      "metadata": {
        "id": "view-in-github",
        "colab_type": "text"
      },
      "source": [
        "<a href=\"https://colab.research.google.com/github/kendallh2015/Assignment-10.1/blob/master/Untitled1.ipynb\" target=\"_parent\"><img src=\"https://colab.research.google.com/assets/colab-badge.svg\" alt=\"Open In Colab\"/></a>"
      ]
    },
    {
      "cell_type": "code",
      "metadata": {
        "id": "CTKZLSbRXuJh",
        "colab_type": "code",
        "colab": {}
      },
      "source": [
        "import os \n",
        "\n",
        "basedir = \"C:\\\\dev\\\\logger\\\\\"\n",
        "\n",
        "print(\"Welcome to the machine!\")\n",
        "\n",
        "project = input('What project number do you want to log time to?')\n",
        "filename = project + \".txt\"\n",
        "\n",
        "if(os.path.isdir(basedir)):\n",
        "  print(\"Directory exists\")\n",
        "else:\n",
        "  print(\"Directory does not exist. We will make one.\")\n",
        "  os.mkdir(basedir)\n",
        "\n",
        "date = input('What is the date? ')\n",
        "start = input('What is the start time? ')\n",
        "end = input('What is the end time? ')\n",
        "\n",
        "logrecord = date + \",\" + start + \",\" + end\n",
        "completePath = basedir + filename \n",
        "\n",
        "with open(completePath, 'a') as fileHandle:\n",
        "  fileHandle.write(logrecord + \"\\n\")\n",
        "\n",
        "print(\"Your log is written. You have logged the following project: \" + project)\n",
        "\n",
        "with open(completePath, 'r') as readHandle:\n",
        "  for line in readHandle:\n",
        "    print(line.strip())"
      ],
      "execution_count": 0,
      "outputs": []
    }
  ]
}